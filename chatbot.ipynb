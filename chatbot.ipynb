{
  "cells": [
    {
      "cell_type": "markdown",
      "metadata": {
        "id": "QvorgA6xyHpr"
      },
      "source": [
        "**Introduction :**\n",
        "\n",
        "A chatbot is a software application designed to simulate human-like conversations.\n",
        "They are widely used in booking tickets, answering questions, shopping online, etc.\n",
        "\n",
        "\n",
        "**Development environment setup :**\n",
        "\n",
        "\n",
        "\n",
        "\n",
        "\n",
        "\n",
        "\n",
        "\n",
        "required libraries : install nltk, sklearn, ssl and streamlit\n",
        "\n",
        "specific packages : punkt,wordnet\n",
        "\n",
        "\n",
        "\n",
        "\n",
        "\n",
        "**Steps to run the code for chatbot :**\n",
        "\n",
        "1. After running the code in your dedicated environment, open cmd or powershell\n",
        "2. Then run these commands to install those packages\n",
        "      * pip install nltk\n",
        "      * pip install scikit-learn\n",
        "      * pip install streamlit\n",
        "3. After installing all packages , run this command to view your streamlit app\n",
        "   in your browser. Also the 'path' in this command refers to path of the python file and 'project' refers to the project name . just copy and paste the path of the python file\n",
        "       * streamlit run path\\project.py\n",
        "\n"
      ]
    },
    {
      "cell_type": "code",
      "execution_count": null,
      "metadata": {
        "id": "7gaIhdwd6T-U"
      },
      "outputs": [],
      "source": [
        "import json\n",
        "import nltk\n",
        "from nltk.stem import WordNetLemmatizer\n",
        "from sklearn.feature_extraction.text import TfidfVectorizer\n",
        "from sklearn.metrics.pairwise import cosine_similarity\n",
        "import random\n",
        "import string\n",
        "import ssl\n",
        "nltk.download('punkt')\n",
        "nltk.download('wordnet')\n",
        "import streamlit as st"
      ]
    },
    {
      "cell_type": "code",
      "execution_count": null,
      "metadata": {
        "id": "oBCkMb7Xv-Wl"
      },
      "outputs": [],
      "source": [
        "with open('C:\\\\Users\\\\gokul\\\\Music\\\\chatbot\\changed1_intent.json', 'r') as json_file:\n",
        "    data = json.load(json_file)\n",
        "\n",
        "lemmatizer = WordNetLemmatizer()\n",
        "documents = []\n",
        "patterns = []\n",
        "\n",
        "# Preprocess patterns and tags\n",
        "dic = dict((ord(punct), None) for punct in string.punctuation)\n",
        "for intent in data['intents']:\n",
        "    for pattern in intent['patterns']:\n",
        "        documents.append((pattern, intent['tag']))\n",
        "        patterns.append(pattern.lower().translate(dic))\n",
        "\n",
        "# Train TF-IDF\n",
        "vectorizer = TfidfVectorizer()\n",
        "X = vectorizer.fit_transform(patterns)\n",
        "\n",
        "# Define response function\n",
        "def response(user_response):\n",
        "    lemmatized_response = lemmatizer.lemmatize(user_response.lower().translate(dic))\n",
        "    user_tfidf = vectorizer.transform([lemmatized_response])\n",
        "    similarity_scores = cosine_similarity(user_tfidf, X).flatten()  # Calculate cosine similarity\n",
        "    best_match_idx = similarity_scores.argmax()\n",
        "    highest_score = similarity_scores[best_match_idx]\n",
        "\n",
        "    if highest_score == 0:        # check similarity threshold\n",
        "        return \"I am sorry, I don't understand you.\"\n",
        "    else:\n",
        "        return documents[best_match_idx][1]  # Return best-matching tag\n",
        "\n",
        "# Define chatbot function\n",
        "def chatbot(user_input):\n",
        "    tag_or_message = response(user_input)\n",
        "    if \"I am sorry\" in tag_or_message:\n",
        "        return tag_or_message\n",
        "\n",
        "    for intent in data['intents']:\n",
        "        if intent['tag'] == tag_or_message:\n",
        "            return random.choice(intent['responses'])\n",
        "\n",
        "    return \"I'm sorry, I couldn't find a matching response.\"\n"
      ]
    },
    {
      "cell_type": "code",
      "execution_count": null,
      "metadata": {
        "id": "AbbzYWnTwOz3"
      },
      "outputs": [],
      "source": [
        "\n",
        "\n",
        "# Handle SSL for Streamlit\n",
        "ssl._create_default_https_context = ssl._create_unverified_context\n",
        "\n",
        "def main():\n",
        "    # Set up the chatbot interface\n",
        "    st.title(\"Chatbot\")\n",
        "    st.write(\"Welcome to the chatbot. Please type a message and press Enter to start the conversation.\")\n",
        "\n",
        "    # Initialize session state\n",
        "    if \"messages\" not in st.session_state:\n",
        "        st.session_state.messages = []\n",
        "\n",
        "    # Define a callback to handle user input\n",
        "    def process_user_input():\n",
        "        user_input = st.session_state[\"user_input\"]\n",
        "        response = chatbot(user_input)  # Get response from chatbot\n",
        "        st.session_state.messages.append({\"user\": user_input})\n",
        "        st.session_state.messages.append({\"bot\": response})\n",
        "        st.session_state[\"user_input\"] = \"\"  # Clear the input\n",
        "\n",
        "    # User input box with on_change callback\n",
        "    st.text_input(\"You:\", key=\"user_input\", on_change=process_user_input)\n",
        "\n",
        "# Display conversation history inside the container\n",
        "chat_container = st.container()\n",
        "with chat_container:\n",
        "    for msg in st.session_state.messages:\n",
        "        if \"user\" in msg:\n",
        "            st.write(f\"🙂 You: {msg['user']}\")\n",
        "        elif \"bot\" in msg:\n",
        "            st.write(f\"🤖 Chatbot: {msg['bot']}\")\n",
        "\n",
        "\n",
        "\n",
        "    # Check if the chatbot's response is a goodbye message\n",
        "    if st.session_state.messages and st.session_state.messages[-1][\"bot\"].lower() in ['goodbye', 'bye']:\n",
        "        st.write(\"Thank you for chatting with me. Have a great day!\")\n",
        "        st.stop()  # Stop the app\n",
        "\n",
        "if __name__ == '__main__':\n",
        "    main()"
      ]
    }
  ],
  "metadata": {
    "colab": {
      "provenance": []
    },
    "kernelspec": {
      "display_name": "Python 3",
      "name": "python3"
    },
    "language_info": {
      "name": "python"
    }
  },
  "nbformat": 4,
  "nbformat_minor": 0
}
